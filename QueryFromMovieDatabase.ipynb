{
 "cells": [
  {
   "cell_type": "code",
   "execution_count": 121,
   "metadata": {},
   "outputs": [],
   "source": []
  },
  {
   "cell_type": "code",
   "execution_count": 122,
   "metadata": {},
   "outputs": [],
   "source": [
    "# def FindBusinessBasedOnCity(cityToSearch, saveLocation1, collection):\n",
    "#     all_records = collection.filter(lambda obj: obj['city'] == cityToSearch)\n",
    "#     with open(saveLocation1, 'w') as f:\n",
    "#         for record in all_records:\n",
    "#             temp_list = []\n",
    "#             temp_list.append(record['name'])\n",
    "#             temp_list.append(record['full_address'])\n",
    "#             temp_list.append(record['city'])\n",
    "#             temp_list.append(record['state'])\n",
    "#             result_str = '$'.join(temp_list)\n",
    "#             f.write(result_str)\n",
    "              "
   ]
  },
  {
   "cell_type": "code",
   "execution_count": 123,
   "metadata": {},
   "outputs": [],
   "source": [
    "# Graded Cell, PartID: o1flK\n",
    "import math\n",
    "from unqlite import UnQLite\n",
    "\n",
    "db = UnQLite('sample.db')\n",
    "data = db.collection('data')\n",
    "\n",
    "def FindBusinessBasedOnCity(cityToSearch, saveLocation1, collection):\n",
    "    all_records = collection.filter(lambda obj: obj['city'] == cityToSearch)\n",
    "    with open(saveLocation1, 'w') as f:\n",
    "        for record in all_records:\n",
    "            temp_list = []\n",
    "            temp_list.append(record['name'])\n",
    "            temp_list.append(record['full_address'])\n",
    "            temp_list.append(record['city'])\n",
    "            temp_list.append(record['state'])\n",
    "            result_str = '$'.join(temp_list)\n",
    "            f.write(result_str + '\\n')\n",
    "\n",
    "def FindBusinessBasedOnLocation(categoriesToSearch, myLocation, maxDistance, saveLocation2, collection):\n",
    "    cate_business = collection.filter(lambda obj: intersection(categoriesToSearch, obj['categories']))\n",
    "    with open(saveLocation2, 'w') as f:\n",
    "        for business in cate_business:\n",
    "            my_lon = myLocation[1]\n",
    "            my_lat = myLocation[0]\n",
    "            business_lon = business['longitude']\n",
    "            business_lat = business['latitude']\n",
    "            distance = DistanceFunction(business_lat, business_lon, my_lat, my_lon)\n",
    "            if distance <= maxDistance:\n",
    "                f.write(business['name'] + '\\n')\n",
    "\n",
    "def intersection(lst1, lst2):\n",
    "    for ele in lst1:\n",
    "        if ele in lst2:\n",
    "            return True\n",
    "    return False\n",
    "             \n",
    "def DistanceFunction(lat2, lon2, lat1, lon1):\n",
    "    r = 3959\n",
    "    r_one = math.radians(lat1)\n",
    "    r_two = math.radians(lat2)\n",
    "    radian_lat = math.radians(lat2-lat1)\n",
    "    radian_lon = math.radians(lon2-lon1)\n",
    "    a = math.sin(radian_lat/2) * math.sin(radian_lat/2) + math.cos(r_one) * math.cos(r_two) * math.sin(radian_lon/2) * math.sin(radian_lon/2)\n",
    "    c = 2 * math.atan2(math.sqrt(a), math.sqrt(1-a))\n",
    "    d = r * c\n",
    "    return d\n",
    "\n"
   ]
  },
  {
   "cell_type": "code",
   "execution_count": 124,
   "metadata": {},
   "outputs": [],
   "source": [
    "# def intersection(lst1, lst2):\n",
    "#     for ele in lst1:\n",
    "#         if ele in lst2:\n",
    "#             return True\n",
    "#     return False\n",
    "\n",
    "# def FindBusinessBasedOnLocation(categoriesToSearch, myLocation, maxDistance, saveLocation2, collection):\n",
    "#     cate_business = data.filter(lambda obj: intersection(categoriesToSearch, obj['categories']))\n",
    "#     print(len(cate_business))\n",
    "#     with open(saveLocation2, 'w') as f:\n",
    "#         for business in cate_business:\n",
    "#             my_lon = myLocation[1]\n",
    "#             my_lat = myLocation[0]\n",
    "#             business_lon = business['longitude']\n",
    "#             business_lat = business['latitude']\n",
    "#             distance = DistanceFunction(business_lat, business_lon, my_lat, my_lon)\n",
    "#             if distance <= maxDistance:\n",
    "#                 f.write(business['name'] + '\\n')\n",
    "                 "
   ]
  },
  {
   "cell_type": "code",
   "execution_count": 125,
   "metadata": {},
   "outputs": [],
   "source": [
    "# def DistanceFunction(lat2, lon2, lat1, lon1):\n",
    "#     r = 3959;\n",
    "#     r_one = math.radians(lat1)\n",
    "#     r_two = math.radians(lat2)\n",
    "#     radian_lat = math.radians(lat2-lat1)\n",
    "#     radian_lon = math.radians(lon2-lon1)\n",
    "#     a = math.sin(radian_lat/2) * math.sin(radian_lat/2) + math.cos(r_one) * math.cos(r_two) * math.sin(radian_lon/2) * math.sin(radian_lon/2)\n",
    "#     c = 2 * math.atan2(math.sqrt(a), math.sqrt(1-a))\n",
    "#     d = r * c\n",
    "#     return d\n",
    "\n"
   ]
  },
  {
   "cell_type": "code",
   "execution_count": 126,
   "metadata": {},
   "outputs": [
    {
     "name": "stdout",
     "output_type": "stream",
     "text": [
      "Correct! You FindBusinessByCity function passes these test cases. This does not cover all possible test edge cases, however, so make sure that your function covers them before submitting!\n"
     ]
    }
   ],
   "source": [
    "true_results = [\"VinciTorio's Restaurant$1835 E Elliot Rd, Ste C109, Tempe, AZ 85284$Tempe$AZ\", \"P.croissants$7520 S Rural Rd, Tempe, AZ 85283$Tempe$AZ\", \"Salt Creek Home$1725 W Ruby Dr, Tempe, AZ 85284$Tempe$AZ\"]\n",
    "\n",
    "try:\n",
    "    FindBusinessBasedOnCity('Tempe', 'output_city.txt', data)\n",
    "except NameError as e:\n",
    "    print ('The FindBusinessBasedOnCity function is not defined! You must run the cell containing the function before running this evaluation cell.')\n",
    "except TypeError as e:\n",
    "    print (\"The FindBusinessBasedOnCity function is supposed to accept three arguments. Yours does not!\")\n",
    "    \n",
    "try:\n",
    "    opf = open('output_city.txt', 'r')\n",
    "except FileNotFoundError as e:\n",
    "    print (\"The FindBusinessBasedOnCity function does not write data to the correct location.\")\n",
    "    \n",
    "lines = opf.readlines()\n",
    "if len(lines) != 3:\n",
    "    print (\"The FindBusinessBasedOnCity function does not find the correct number of results, should be 3.\")\n",
    "    \n",
    "lines = [line.strip() for line in lines]\n",
    "if sorted(lines) == sorted(true_results):\n",
    "    print (\"Correct! You FindBusinessByCity function passes these test cases. This does not cover all possible test edge cases, however, so make sure that your function covers them before submitting!\")"
   ]
  },
  {
   "cell_type": "code",
   "execution_count": 127,
   "metadata": {},
   "outputs": [
    {
     "name": "stdout",
     "output_type": "stream",
     "text": [
      "1\n",
      "Correct! Your FindBusinessBasedOnLocation function passes these test cases. This does not cover all possible edge cases, so make sure your function does before submitting.\n"
     ]
    }
   ],
   "source": [
    "true_results = [\"VinciTorio's Restaurant\"]\n",
    "\n",
    "try:\n",
    "    FindBusinessBasedOnLocation(['Buffets'], [33.3482589, -111.9088346], 10, 'output_loc.txt', data)\n",
    "except NameError as e: \n",
    "    print ('The FindBusinessBasedOnLocation function is not defined! You must run the cell containing the function before running this evaluation cell.')\n",
    "except TypeError as e:\n",
    "    print (\"The FindBusinessBasedOnLocation function is supposed to accept five arguments. Yours does not!\")\n",
    "    \n",
    "try:\n",
    "    opf = open('output_loc.txt','r')\n",
    "except FileNotFoundError as e:\n",
    "    print (\"The FindBusinessBasedOnLocation function does not write data to the correct location.\")\n",
    "\n",
    "lines = opf.readlines()\n",
    "if len(lines) != 1:\n",
    "    print (\"The FindBusinessBasedOnLocation function does not find the correct number of results, should be only 1.\")\n",
    "\n",
    "if lines[0].strip() == true_results[0]:\n",
    "    print (\"Correct! Your FindBusinessBasedOnLocation function passes these test cases. This does not cover all possible edge cases, so make sure your function does before submitting.\")"
   ]
  },
  {
   "cell_type": "code",
   "execution_count": null,
   "metadata": {},
   "outputs": [],
   "source": []
  }
 ],
 "metadata": {
  "kernelspec": {
   "display_name": "Python 2",
   "language": "python",
   "name": "python2"
  },
  "language_info": {
   "codemirror_mode": {
    "name": "ipython",
    "version": 2
   },
   "file_extension": ".py",
   "mimetype": "text/x-python",
   "name": "python",
   "nbconvert_exporter": "python",
   "pygments_lexer": "ipython2",
   "version": "2.7.17"
  }
 },
 "nbformat": 4,
 "nbformat_minor": 4
}
